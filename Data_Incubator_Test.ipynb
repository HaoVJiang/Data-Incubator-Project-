{
  "nbformat": 4,
  "nbformat_minor": 0,
  "metadata": {
    "colab": {
      "name": "Data Incubator Test.ipynb",
      "provenance": [],
      "collapsed_sections": []
    },
    "kernelspec": {
      "name": "python3",
      "display_name": "Python 3"
    }
  },
  "cells": [
    {
      "cell_type": "markdown",
      "metadata": {
        "id": "zwpA8QCOVqcX",
        "colab_type": "text"
      },
      "source": [
        "# Section 1"
      ]
    },
    {
      "cell_type": "markdown",
      "metadata": {
        "id": "3Bc7wTr8bgwo",
        "colab_type": "text"
      },
      "source": [
        "**Read the Data**"
      ]
    },
    {
      "cell_type": "code",
      "metadata": {
        "id": "qlJprYOHC6XH",
        "colab_type": "code",
        "colab": {}
      },
      "source": [
        "import pandas as pd \n",
        "import numpy as np "
      ],
      "execution_count": 383,
      "outputs": []
    },
    {
      "cell_type": "code",
      "metadata": {
        "id": "8_Cha7vxDBQE",
        "colab_type": "code",
        "colab": {}
      },
      "source": [
        "data = pd.read_csv('/content/drive/My Drive/Colab Notebooks/Data set/Recent_Contract_Awards.csv',parse_dates=['StartDate','EndDate'],low_memory=False)"
      ],
      "execution_count": 384,
      "outputs": []
    },
    {
      "cell_type": "code",
      "metadata": {
        "id": "nFwav3MoDbpq",
        "colab_type": "code",
        "colab": {
          "base_uri": "https://localhost:8080/",
          "height": 547
        },
        "outputId": "e56154f7-c0b3-4a37-819c-e414a0eb5da7"
      },
      "source": [
        "data.head()"
      ],
      "execution_count": 7,
      "outputs": [
        {
          "output_type": "execute_result",
          "data": {
            "text/html": [
              "<div>\n",
              "<style scoped>\n",
              "    .dataframe tbody tr th:only-of-type {\n",
              "        vertical-align: middle;\n",
              "    }\n",
              "\n",
              "    .dataframe tbody tr th {\n",
              "        vertical-align: top;\n",
              "    }\n",
              "\n",
              "    .dataframe thead th {\n",
              "        text-align: right;\n",
              "    }\n",
              "</style>\n",
              "<table border=\"1\" class=\"dataframe\">\n",
              "  <thead>\n",
              "    <tr style=\"text-align: right;\">\n",
              "      <th></th>\n",
              "      <th>RequestID</th>\n",
              "      <th>StartDate</th>\n",
              "      <th>EndDate</th>\n",
              "      <th>AgencyName</th>\n",
              "      <th>TypeOfNoticeDescription</th>\n",
              "      <th>CategoryDescription</th>\n",
              "      <th>ShortTitle</th>\n",
              "      <th>SelectionMethodDescription</th>\n",
              "      <th>SectionName</th>\n",
              "      <th>SpecialCaseReasonDescription</th>\n",
              "      <th>PIN</th>\n",
              "      <th>DueDate</th>\n",
              "      <th>AddressToRequest</th>\n",
              "      <th>ContactName</th>\n",
              "      <th>ContactPhone</th>\n",
              "      <th>Email</th>\n",
              "      <th>ContractAmount</th>\n",
              "      <th>ContactFax</th>\n",
              "      <th>AdditionalDescription1</th>\n",
              "      <th>AdditionalDesctription2</th>\n",
              "      <th>AdditionalDescription3</th>\n",
              "      <th>OtherInfo1</th>\n",
              "      <th>OtherInfo2</th>\n",
              "      <th>OtherInfo3</th>\n",
              "      <th>VendorName</th>\n",
              "      <th>VendorAddress</th>\n",
              "      <th>Printout1</th>\n",
              "      <th>Printout2</th>\n",
              "      <th>Printout3</th>\n",
              "      <th>DocumentLinks</th>\n",
              "      <th>EventDate</th>\n",
              "      <th>EventBuildingName</th>\n",
              "      <th>EventStreetAddress1</th>\n",
              "      <th>EventStreetAddress2</th>\n",
              "      <th>EventCity</th>\n",
              "      <th>EventStateCode</th>\n",
              "      <th>EventZipCode</th>\n",
              "    </tr>\n",
              "  </thead>\n",
              "  <tbody>\n",
              "    <tr>\n",
              "      <th>0</th>\n",
              "      <td>20120228019</td>\n",
              "      <td>2012-03-05</td>\n",
              "      <td>2012-03-05</td>\n",
              "      <td>Homeless Services</td>\n",
              "      <td>Award</td>\n",
              "      <td>Human Services/Client Services</td>\n",
              "      <td>ANTI-EVICTION SERVICES</td>\n",
              "      <td>Negotiated Acquisition</td>\n",
              "      <td>Procurement</td>\n",
              "      <td>Other (Describe below in Other Legally Mandate...</td>\n",
              "      <td>07112A031412</td>\n",
              "      <td>NaN</td>\n",
              "      <td>NaN</td>\n",
              "      <td>NaN</td>\n",
              "      <td>NaN</td>\n",
              "      <td>NaN</td>\n",
              "      <td>NaN</td>\n",
              "      <td>NaN</td>\n",
              "      <td>NaN</td>\n",
              "      <td>NaN</td>\n",
              "      <td>NaN</td>\n",
              "      <td>3-04(b)(2)(iii)of the Procurement Policy Board...</td>\n",
              "      <td>NaN</td>\n",
              "      <td>NaN</td>\n",
              "      <td>NaN</td>\n",
              "      <td>NaN</td>\n",
              "      <td>ANTI-EVICTION SERVICES - Negotiated Acquisitio...</td>\n",
              "      <td>NaN</td>\n",
              "      <td>NaN</td>\n",
              "      <td>https://msdwvw-dcscro01.csc.nycnet/CROLPublicF...</td>\n",
              "      <td>NaN</td>\n",
              "      <td>NaN</td>\n",
              "      <td>NaN</td>\n",
              "      <td>NaN</td>\n",
              "      <td>NaN</td>\n",
              "      <td>NaN</td>\n",
              "      <td>NaN</td>\n",
              "    </tr>\n",
              "    <tr>\n",
              "      <th>1</th>\n",
              "      <td>20130214013</td>\n",
              "      <td>2013-02-22</td>\n",
              "      <td>2013-02-22</td>\n",
              "      <td>Parks and Recreation</td>\n",
              "      <td>Award</td>\n",
              "      <td>Services (other than human services)</td>\n",
              "      <td>DEPARTMENT OF PARKS  AND  RECREATION NOTICE OF...</td>\n",
              "      <td>Request for Proposals</td>\n",
              "      <td>Procurement</td>\n",
              "      <td>NaN</td>\n",
              "      <td>CWP2012A-M7-CG</td>\n",
              "      <td>NaN</td>\n",
              "      <td>NaN</td>\n",
              "      <td>NaN</td>\n",
              "      <td>NaN</td>\n",
              "      <td>NaN</td>\n",
              "      <td>25655.00</td>\n",
              "      <td>NaN</td>\n",
              "      <td>NaN</td>\n",
              "      <td>NaN</td>\n",
              "      <td>NaN</td>\n",
              "      <td>NaN</td>\n",
              "      <td>NaN</td>\n",
              "      <td>NaN</td>\n",
              "      <td>AdamEric, Inc.</td>\n",
              "      <td>478A Lafayette Avenue, Brooklyn, NY 11205</td>\n",
              "      <td>DEPARTMENT OF PARKS  AND  RECREATION NOTICE OF...</td>\n",
              "      <td>NaN</td>\n",
              "      <td>NaN</td>\n",
              "      <td>https://msdwvw-dcscro01.csc.nycnet/CROLPublicF...</td>\n",
              "      <td>NaN</td>\n",
              "      <td>NaN</td>\n",
              "      <td>NaN</td>\n",
              "      <td>NaN</td>\n",
              "      <td>NaN</td>\n",
              "      <td>NaN</td>\n",
              "      <td>NaN</td>\n",
              "    </tr>\n",
              "    <tr>\n",
              "      <th>2</th>\n",
              "      <td>20130131010</td>\n",
              "      <td>2013-02-06</td>\n",
              "      <td>2013-02-06</td>\n",
              "      <td>Parks and Recreation</td>\n",
              "      <td>Award</td>\n",
              "      <td>Services (other than human services)</td>\n",
              "      <td>PARKS AND RECREATION NOTICES OF AWARD</td>\n",
              "      <td>Public Bid</td>\n",
              "      <td>Procurement</td>\n",
              "      <td>NaN</td>\n",
              "      <td>CWB2013A AND 2012A/B</td>\n",
              "      <td>NaN</td>\n",
              "      <td>NaN</td>\n",
              "      <td>NaN</td>\n",
              "      <td>NaN</td>\n",
              "      <td>NaN</td>\n",
              "      <td>-1.00</td>\n",
              "      <td>NaN</td>\n",
              "      <td>NaN</td>\n",
              "      <td>NaN</td>\n",
              "      <td>NaN</td>\n",
              "      <td>NaN</td>\n",
              "      <td>NaN</td>\n",
              "      <td>NaN</td>\n",
              "      <td>NaN</td>\n",
              "      <td>NaN</td>\n",
              "      <td>PARKS AND RECREATION NOTICES OF AWARD - Public...</td>\n",
              "      <td>NaN</td>\n",
              "      <td>NaN</td>\n",
              "      <td>https://msdwvw-dcscro01.csc.nycnet/CROLPublicF...</td>\n",
              "      <td>NaN</td>\n",
              "      <td>NaN</td>\n",
              "      <td>NaN</td>\n",
              "      <td>NaN</td>\n",
              "      <td>NaN</td>\n",
              "      <td>NaN</td>\n",
              "      <td>NaN</td>\n",
              "    </tr>\n",
              "    <tr>\n",
              "      <th>3</th>\n",
              "      <td>20090911004</td>\n",
              "      <td>2009-09-18</td>\n",
              "      <td>2009-09-18</td>\n",
              "      <td>Transportation</td>\n",
              "      <td>Award</td>\n",
              "      <td>Services (other than human services)</td>\n",
              "      <td>OPERATION, MANAGEMENT, AND MAINTENANCE OF PEDE...</td>\n",
              "      <td>Sole Source</td>\n",
              "      <td>Procurement</td>\n",
              "      <td>Other (Describe below in Other Legally Mandate...</td>\n",
              "      <td>......</td>\n",
              "      <td>NaN</td>\n",
              "      <td>NaN</td>\n",
              "      <td>NaN</td>\n",
              "      <td>NaN</td>\n",
              "      <td>NaN</td>\n",
              "      <td>NaN</td>\n",
              "      <td>NaN</td>\n",
              "      <td>NaN</td>\n",
              "      <td>NaN</td>\n",
              "      <td>NaN</td>\n",
              "      <td>Since the concession will not yield a profit t...</td>\n",
              "      <td>NaN</td>\n",
              "      <td>NaN</td>\n",
              "      <td>NaN</td>\n",
              "      <td>NaN</td>\n",
              "      <td>OPERATION, MANAGEMENT, AND MAINTENANCE OF PEDE...</td>\n",
              "      <td>NaN</td>\n",
              "      <td>NaN</td>\n",
              "      <td>https://msdwvw-dcscro01.csc.nycnet/CROLPublicF...</td>\n",
              "      <td>NaN</td>\n",
              "      <td>NaN</td>\n",
              "      <td>NaN</td>\n",
              "      <td>NaN</td>\n",
              "      <td>NaN</td>\n",
              "      <td>NaN</td>\n",
              "      <td>NaN</td>\n",
              "    </tr>\n",
              "    <tr>\n",
              "      <th>4</th>\n",
              "      <td>20140821015</td>\n",
              "      <td>2014-08-28</td>\n",
              "      <td>2014-08-28</td>\n",
              "      <td>Parks and Recreation</td>\n",
              "      <td>Award</td>\n",
              "      <td>Services (other than human services)</td>\n",
              "      <td>OPERATION OF ONE NON-PROCESSING CART</td>\n",
              "      <td>Competitive Sealed Bids</td>\n",
              "      <td>Procurement</td>\n",
              "      <td>NaN</td>\n",
              "      <td>M10-E62-C</td>\n",
              "      <td>NaN</td>\n",
              "      <td>NaN</td>\n",
              "      <td>NaN</td>\n",
              "      <td>NaN</td>\n",
              "      <td>NaN</td>\n",
              "      <td>1130412.09</td>\n",
              "      <td>NaN</td>\n",
              "      <td>NaN</td>\n",
              "      <td>NaN</td>\n",
              "      <td>NaN</td>\n",
              "      <td>NaN</td>\n",
              "      <td>NaN</td>\n",
              "      <td>NaN</td>\n",
              "      <td>MUN Trading Corporation</td>\n",
              "      <td>37-38 84th Street, Apt. 21, Jackson Heights, N...</td>\n",
              "      <td>OPERATION OF ONE NON-PROCESSING CART  - Compet...</td>\n",
              "      <td>NaN</td>\n",
              "      <td>NaN</td>\n",
              "      <td>https://msdwvw-dcscro01.csc.nycnet/CROLPublicF...</td>\n",
              "      <td>NaN</td>\n",
              "      <td>NaN</td>\n",
              "      <td>NaN</td>\n",
              "      <td>NaN</td>\n",
              "      <td>NaN</td>\n",
              "      <td>NaN</td>\n",
              "      <td>NaN</td>\n",
              "    </tr>\n",
              "  </tbody>\n",
              "</table>\n",
              "</div>"
            ],
            "text/plain": [
              "     RequestID  StartDate    EndDate  ... EventCity EventStateCode EventZipCode\n",
              "0  20120228019 2012-03-05 2012-03-05  ...       NaN            NaN          NaN\n",
              "1  20130214013 2013-02-22 2013-02-22  ...       NaN            NaN          NaN\n",
              "2  20130131010 2013-02-06 2013-02-06  ...       NaN            NaN          NaN\n",
              "3  20090911004 2009-09-18 2009-09-18  ...       NaN            NaN          NaN\n",
              "4  20140821015 2014-08-28 2014-08-28  ...       NaN            NaN          NaN\n",
              "\n",
              "[5 rows x 37 columns]"
            ]
          },
          "metadata": {
            "tags": []
          },
          "execution_count": 7
        }
      ]
    },
    {
      "cell_type": "markdown",
      "metadata": {
        "id": "GMTwskx1E0F4",
        "colab_type": "text"
      },
      "source": [
        "**Q1:**\n",
        "> - Keep only rows with a StartDate occurring from 2010 to 2019, inclusive. Next, remove all rows for which the ContractAmount field is less than or equal to zero, or is missing entirely. Use this filtered data for the rest of the challenge, as well. For the remaining data, what is the total sum of contract amounts?"
      ]
    },
    {
      "cell_type": "code",
      "metadata": {
        "id": "vsQSjzcSE4eC",
        "colab_type": "code",
        "colab": {}
      },
      "source": [
        "### Keep rows from 2010 to 2019, inclusive. \n",
        "data_1 = data[(data['StartDate'] >= '2010-01-01') & (data['StartDate'] <= '2019-12-31')]\n",
        "### remove all rows less than or equal to zero\n",
        "data_1 = data_1[data_1['ContractAmount'].notna()]\n",
        "### remove all rows missing entirely\n",
        "data_1 = data_1.drop(data_1[data_1['ContractAmount'] <= 0].index)"
      ],
      "execution_count": 385,
      "outputs": []
    },
    {
      "cell_type": "code",
      "metadata": {
        "id": "5BpXxwmecCxK",
        "colab_type": "code",
        "colab": {
          "base_uri": "https://localhost:8080/",
          "height": 765
        },
        "outputId": "101ed91e-5fc1-4d51-a99f-08fe91c7129f"
      },
      "source": [
        "data_1.info()"
      ],
      "execution_count": 126,
      "outputs": [
        {
          "output_type": "stream",
          "text": [
            "<class 'pandas.core.frame.DataFrame'>\n",
            "Int64Index: 18198 entries, 1 to 35499\n",
            "Data columns (total 37 columns):\n",
            " #   Column                        Non-Null Count  Dtype         \n",
            "---  ------                        --------------  -----         \n",
            " 0   RequestID                     18198 non-null  int64         \n",
            " 1   StartDate                     18198 non-null  datetime64[ns]\n",
            " 2   EndDate                       18198 non-null  datetime64[ns]\n",
            " 3   AgencyName                    18198 non-null  object        \n",
            " 4   TypeOfNoticeDescription       18198 non-null  object        \n",
            " 5   CategoryDescription           18198 non-null  object        \n",
            " 6   ShortTitle                    18198 non-null  object        \n",
            " 7   SelectionMethodDescription    18198 non-null  object        \n",
            " 8   SectionName                   18198 non-null  object        \n",
            " 9   SpecialCaseReasonDescription  6871 non-null   object        \n",
            " 10  PIN                           18198 non-null  object        \n",
            " 11  DueDate                       0 non-null      float64       \n",
            " 12  AddressToRequest              0 non-null      object        \n",
            " 13  ContactName                   0 non-null      object        \n",
            " 14  ContactPhone                  0 non-null      object        \n",
            " 15  Email                         0 non-null      object        \n",
            " 16  ContractAmount                18198 non-null  float64       \n",
            " 17  ContactFax                    0 non-null      float64       \n",
            " 18  AdditionalDescription1        600 non-null    object        \n",
            " 19  AdditionalDesctription2       0 non-null      float64       \n",
            " 20  AdditionalDescription3        0 non-null      float64       \n",
            " 21  OtherInfo1                    2992 non-null   object        \n",
            " 22  OtherInfo2                    0 non-null      float64       \n",
            " 23  OtherInfo3                    0 non-null      float64       \n",
            " 24  VendorName                    18197 non-null  object        \n",
            " 25  VendorAddress                 18197 non-null  object        \n",
            " 26  Printout1                     18198 non-null  object        \n",
            " 27  Printout2                     0 non-null      object        \n",
            " 28  Printout3                     0 non-null      float64       \n",
            " 29  DocumentLinks                 36 non-null     object        \n",
            " 30  EventDate                     0 non-null      float64       \n",
            " 31  EventBuildingName             0 non-null      float64       \n",
            " 32  EventStreetAddress1           0 non-null      float64       \n",
            " 33  EventStreetAddress2           0 non-null      float64       \n",
            " 34  EventCity                     0 non-null      float64       \n",
            " 35  EventStateCode                0 non-null      float64       \n",
            " 36  EventZipCode                  0 non-null      float64       \n",
            "dtypes: datetime64[ns](2), float64(15), int64(1), object(19)\n",
            "memory usage: 5.3+ MB\n"
          ],
          "name": "stdout"
        }
      ]
    },
    {
      "cell_type": "code",
      "metadata": {
        "id": "LVJXq9oNKrZi",
        "colab_type": "code",
        "colab": {
          "base_uri": "https://localhost:8080/",
          "height": 34
        },
        "outputId": "2ca9d00e-95f3-47de-8974-c8c96cc1e153"
      },
      "source": [
        "### Sum of remaining ContractAmount\n",
        "np.sum(data_1['ContractAmount'])"
      ],
      "execution_count": 386,
      "outputs": [
        {
          "output_type": "execute_result",
          "data": {
            "text/plain": [
              "207783514028.18"
            ]
          },
          "metadata": {
            "tags": []
          },
          "execution_count": 386
        }
      ]
    },
    {
      "cell_type": "markdown",
      "metadata": {
        "id": "NcLnSPc4Lfn1",
        "colab_type": "text"
      },
      "source": [
        "**Q2**\n",
        "> - Determine the number of contact by each agency. For the top five agaencies in terms of amount. Compute the mean amount for each agency. What is the ratio of highest mean contract to the second highest. "
      ]
    },
    {
      "cell_type": "code",
      "metadata": {
        "id": "_KbaHOh3OJtc",
        "colab_type": "code",
        "colab": {
          "base_uri": "https://localhost:8080/",
          "height": 238
        },
        "outputId": "6877bbd8-b707-4cad-c682-2331dae17fa0"
      },
      "source": [
        "### Find the mean for each agency\n",
        "data_1.groupby(['AgencyName'])['ContractAmount'].mean()"
      ],
      "execution_count": 387,
      "outputs": [
        {
          "output_type": "execute_result",
          "data": {
            "text/plain": [
              "AgencyName\n",
              "Administration for Children's Services    6.911672e+06\n",
              "Administrative Trials and Hearings        7.933455e+05\n",
              "Aging                                     1.047908e+06\n",
              "Battery Park City Authority               4.207367e+05\n",
              "Board of Correction                       4.963165e+04\n",
              "                                              ...     \n",
              "Taxi and Limousine Commission             6.917359e+04\n",
              "Teachers' Retirement System               1.150000e+05\n",
              "Transportation                            1.202160e+07\n",
              "Veterans' Services                        4.690000e+05\n",
              "Youth and Community Development           5.910403e+04\n",
              "Name: ContractAmount, Length: 64, dtype: float64"
            ]
          },
          "metadata": {
            "tags": []
          },
          "execution_count": 387
        }
      ]
    },
    {
      "cell_type": "code",
      "metadata": {
        "id": "TEfskngmOHPu",
        "colab_type": "code",
        "colab": {
          "base_uri": "https://localhost:8080/",
          "height": 34
        },
        "outputId": "d2161e76-e63b-4ca4-c7f3-e60dd046063a"
      },
      "source": [
        "### 2: Caculate the ratio\n",
        "6.911672e+06 / 7.933455e+05"
      ],
      "execution_count": 388,
      "outputs": [
        {
          "output_type": "execute_result",
          "data": {
            "text/plain": [
              "8.712057987345993"
            ]
          },
          "metadata": {
            "tags": []
          },
          "execution_count": 388
        }
      ]
    },
    {
      "cell_type": "markdown",
      "metadata": {
        "id": "NAxzK9_8OlPd",
        "colab_type": "text"
      },
      "source": [
        "**Q3**\n",
        "> - Consider only procurements made by the Citywide Administrative Services agency and compute the sum contract amount awarded to each unique vendor. What proportion of the total number of contracts in the data set were awarded to the top 50 vendors?"
      ]
    },
    {
      "cell_type": "code",
      "metadata": {
        "id": "mLyGKb9iPFMr",
        "colab_type": "code",
        "colab": {}
      },
      "source": [
        "### Extract AgencyName as Citywide Administrative Services\n",
        "city_wide = data_1[data_1['AgencyName'] == 'Citywide Administrative Services']\n",
        "### group by Vendor Name and caculate the sum for each vendor \n",
        "vender_sum = city_wide.groupby(['VendorName'])['ContractAmount'].sum()\n",
        "vender_sum = pd.DataFrame(vender_sum) ### Turn into dataframe for better visual representation\n",
        "vender_sum = vender_sum.reset_index(level=0) ### Turn the index into column"
      ],
      "execution_count": 389,
      "outputs": []
    },
    {
      "cell_type": "code",
      "metadata": {
        "id": "bHvoYEgDOn4g",
        "colab_type": "code",
        "colab": {
          "base_uri": "https://localhost:8080/",
          "height": 204
        },
        "outputId": "da6a558e-443b-45a2-ec8d-0eb8f1eb1efd"
      },
      "source": [
        "vender_sum.head()"
      ],
      "execution_count": 132,
      "outputs": [
        {
          "output_type": "execute_result",
          "data": {
            "text/html": [
              "<div>\n",
              "<style scoped>\n",
              "    .dataframe tbody tr th:only-of-type {\n",
              "        vertical-align: middle;\n",
              "    }\n",
              "\n",
              "    .dataframe tbody tr th {\n",
              "        vertical-align: top;\n",
              "    }\n",
              "\n",
              "    .dataframe thead th {\n",
              "        text-align: right;\n",
              "    }\n",
              "</style>\n",
              "<table border=\"1\" class=\"dataframe\">\n",
              "  <thead>\n",
              "    <tr style=\"text-align: right;\">\n",
              "      <th></th>\n",
              "      <th>VendorName</th>\n",
              "      <th>ContractAmount</th>\n",
              "    </tr>\n",
              "  </thead>\n",
              "  <tbody>\n",
              "    <tr>\n",
              "      <th>0</th>\n",
              "      <td>12813 Rockaway Blvd., Corp dba Ozone Park Lumber</td>\n",
              "      <td>728195.70</td>\n",
              "    </tr>\n",
              "    <tr>\n",
              "      <th>1</th>\n",
              "      <td>161-12 46th Avenue Lease Corp DBA Magic Collis...</td>\n",
              "      <td>509883.34</td>\n",
              "    </tr>\n",
              "    <tr>\n",
              "      <th>2</th>\n",
              "      <td>161-12 46th Avenue Lease Corp. dba Magic Colli...</td>\n",
              "      <td>764825.00</td>\n",
              "    </tr>\n",
              "    <tr>\n",
              "      <th>3</th>\n",
              "      <td>161-12 46th Avenue Lease Corp., dba Magic Coll...</td>\n",
              "      <td>555025.00</td>\n",
              "    </tr>\n",
              "    <tr>\n",
              "      <th>4</th>\n",
              "      <td>2 KR Systems LLC</td>\n",
              "      <td>147188.96</td>\n",
              "    </tr>\n",
              "  </tbody>\n",
              "</table>\n",
              "</div>"
            ],
            "text/plain": [
              "                                          VendorName  ContractAmount\n",
              "0   12813 Rockaway Blvd., Corp dba Ozone Park Lumber       728195.70\n",
              "1  161-12 46th Avenue Lease Corp DBA Magic Collis...       509883.34\n",
              "2  161-12 46th Avenue Lease Corp. dba Magic Colli...       764825.00\n",
              "3  161-12 46th Avenue Lease Corp., dba Magic Coll...       555025.00\n",
              "4                                   2 KR Systems LLC       147188.96"
            ]
          },
          "metadata": {
            "tags": []
          },
          "execution_count": 132
        }
      ]
    },
    {
      "cell_type": "code",
      "metadata": {
        "id": "LZ6klvKWRaOx",
        "colab_type": "code",
        "colab": {
          "base_uri": "https://localhost:8080/",
          "height": 34
        },
        "outputId": "da8bd072-b63f-454d-ed52-bcc0d20d2ded"
      },
      "source": [
        "### Caculate the total sum and top 50 sum then find the percentage\n",
        "Total_sum = np.sum(vender_sum['ContractAmount'])\n",
        "top_50_sum = np.sum(vender_sum.iloc[:51,]['ContractAmount'])\n",
        "top_50_sum / Total_sum"
      ],
      "execution_count": 390,
      "outputs": [
        {
          "output_type": "execute_result",
          "data": {
            "text/plain": [
              "0.002754360069626131"
            ]
          },
          "metadata": {
            "tags": []
          },
          "execution_count": 390
        }
      ]
    },
    {
      "cell_type": "markdown",
      "metadata": {
        "id": "xyRhvgR6STPp",
        "colab_type": "text"
      },
      "source": [
        "**Q4**\n",
        "> - Do agencies publish procurement notices uniformly throughout the week? As an example, consider the agency of Parks and Recreation. For this agency, compute the weekday for which each notice was published, and perform a Chi-squared test on the null hypothesis that each weekday occurs equally often. Report the value of the test statistic."
      ]
    },
    {
      "cell_type": "code",
      "metadata": {
        "id": "zxIXrse2WSj6",
        "colab_type": "code",
        "colab": {}
      },
      "source": [
        "from scipy.stats import chisquare"
      ],
      "execution_count": 391,
      "outputs": []
    },
    {
      "cell_type": "code",
      "metadata": {
        "id": "kgdczPxmSZ3Y",
        "colab_type": "code",
        "colab": {}
      },
      "source": [
        "### Keep only Parks and Recreation with start date & ID \n",
        "park_Recre = data_1[data_1['AgencyName'] == 'Parks and Recreation']\n",
        "park_Recre = park_Recre.loc[:,['RequestID','StartDate']]\n",
        "### Caculate the week day for this agency \n",
        "park_Recre['weekday'] = park_Recre['StartDate'].dt.day_name()"
      ],
      "execution_count": 392,
      "outputs": []
    },
    {
      "cell_type": "code",
      "metadata": {
        "id": "33vZwHQ2WCKu",
        "colab_type": "code",
        "colab": {
          "base_uri": "https://localhost:8080/",
          "height": 419
        },
        "outputId": "32da0aa7-ab0e-4d83-af46-8b454912e77f"
      },
      "source": [
        "park_Recre"
      ],
      "execution_count": 135,
      "outputs": [
        {
          "output_type": "execute_result",
          "data": {
            "text/html": [
              "<div>\n",
              "<style scoped>\n",
              "    .dataframe tbody tr th:only-of-type {\n",
              "        vertical-align: middle;\n",
              "    }\n",
              "\n",
              "    .dataframe tbody tr th {\n",
              "        vertical-align: top;\n",
              "    }\n",
              "\n",
              "    .dataframe thead th {\n",
              "        text-align: right;\n",
              "    }\n",
              "</style>\n",
              "<table border=\"1\" class=\"dataframe\">\n",
              "  <thead>\n",
              "    <tr style=\"text-align: right;\">\n",
              "      <th></th>\n",
              "      <th>RequestID</th>\n",
              "      <th>StartDate</th>\n",
              "      <th>weekday</th>\n",
              "    </tr>\n",
              "  </thead>\n",
              "  <tbody>\n",
              "    <tr>\n",
              "      <th>1</th>\n",
              "      <td>20130214013</td>\n",
              "      <td>2013-02-22</td>\n",
              "      <td>Friday</td>\n",
              "    </tr>\n",
              "    <tr>\n",
              "      <th>4</th>\n",
              "      <td>20140821015</td>\n",
              "      <td>2014-08-28</td>\n",
              "      <td>Thursday</td>\n",
              "    </tr>\n",
              "    <tr>\n",
              "      <th>5</th>\n",
              "      <td>20140821014</td>\n",
              "      <td>2014-08-28</td>\n",
              "      <td>Thursday</td>\n",
              "    </tr>\n",
              "    <tr>\n",
              "      <th>9</th>\n",
              "      <td>20130315030</td>\n",
              "      <td>2013-03-22</td>\n",
              "      <td>Friday</td>\n",
              "    </tr>\n",
              "    <tr>\n",
              "      <th>10</th>\n",
              "      <td>20130415019</td>\n",
              "      <td>2013-04-22</td>\n",
              "      <td>Monday</td>\n",
              "    </tr>\n",
              "    <tr>\n",
              "      <th>...</th>\n",
              "      <td>...</td>\n",
              "      <td>...</td>\n",
              "      <td>...</td>\n",
              "    </tr>\n",
              "    <tr>\n",
              "      <th>35409</th>\n",
              "      <td>20161110015</td>\n",
              "      <td>2016-11-18</td>\n",
              "      <td>Friday</td>\n",
              "    </tr>\n",
              "    <tr>\n",
              "      <th>35415</th>\n",
              "      <td>20170807013</td>\n",
              "      <td>2017-08-11</td>\n",
              "      <td>Friday</td>\n",
              "    </tr>\n",
              "    <tr>\n",
              "      <th>35430</th>\n",
              "      <td>20180116020</td>\n",
              "      <td>2018-01-25</td>\n",
              "      <td>Thursday</td>\n",
              "    </tr>\n",
              "    <tr>\n",
              "      <th>35431</th>\n",
              "      <td>20181203018</td>\n",
              "      <td>2018-12-12</td>\n",
              "      <td>Wednesday</td>\n",
              "    </tr>\n",
              "    <tr>\n",
              "      <th>35464</th>\n",
              "      <td>20180221031</td>\n",
              "      <td>2018-02-28</td>\n",
              "      <td>Wednesday</td>\n",
              "    </tr>\n",
              "  </tbody>\n",
              "</table>\n",
              "<p>709 rows × 3 columns</p>\n",
              "</div>"
            ],
            "text/plain": [
              "         RequestID  StartDate    weekday\n",
              "1      20130214013 2013-02-22     Friday\n",
              "4      20140821015 2014-08-28   Thursday\n",
              "5      20140821014 2014-08-28   Thursday\n",
              "9      20130315030 2013-03-22     Friday\n",
              "10     20130415019 2013-04-22     Monday\n",
              "...            ...        ...        ...\n",
              "35409  20161110015 2016-11-18     Friday\n",
              "35415  20170807013 2017-08-11     Friday\n",
              "35430  20180116020 2018-01-25   Thursday\n",
              "35431  20181203018 2018-12-12  Wednesday\n",
              "35464  20180221031 2018-02-28  Wednesday\n",
              "\n",
              "[709 rows x 3 columns]"
            ]
          },
          "metadata": {
            "tags": []
          },
          "execution_count": 135
        }
      ]
    },
    {
      "cell_type": "code",
      "metadata": {
        "id": "GHLOrm8UY6zC",
        "colab_type": "code",
        "colab": {
          "base_uri": "https://localhost:8080/",
          "height": 170
        },
        "outputId": "e0ccedbc-da87-4834-82e4-fbaf553bd086"
      },
      "source": [
        "### Find the procument for each weekday and do Chi-test\n",
        "print(park_Recre['weekday'].value_counts())\n",
        "f_observe = [130,163,145,119,152]\n",
        "print('\\n')\n",
        "print(chisquare(f_obs=f_observe))"
      ],
      "execution_count": 393,
      "outputs": [
        {
          "output_type": "stream",
          "text": [
            "Tuesday      163\n",
            "Friday       152\n",
            "Wednesday    145\n",
            "Monday       130\n",
            "Thursday     119\n",
            "Name: weekday, dtype: int64\n",
            "\n",
            "\n",
            "Power_divergenceResult(statistic=8.623413258110013, pvalue=0.07123340164293498)\n"
          ],
          "name": "stdout"
        }
      ]
    },
    {
      "cell_type": "markdown",
      "metadata": {
        "id": "NkJBO3_-dmZh",
        "colab_type": "text"
      },
      "source": [
        "**Q5:**\n",
        "> - For this question, consider only contracts with in the categories of Construction Related Services and Construction/Construction Services. The ShortTitle field contains a description of the procured goods/services for each contract. Compute the sum contract amount for contracts whose ShortTitle refer to 'CENTRAL PARK' and for those which refer to 'WASHINGTON SQUARE PARK'. What is the ratio of total construction and contruction-related expenditure for the Central Park contracts compared to the Washington Square Park contracts? Note: you should ensure that 'PARK' appears on its own and not as the beginning of another word."
      ]
    },
    {
      "cell_type": "code",
      "metadata": {
        "id": "clRB70GqmxBP",
        "colab_type": "code",
        "colab": {}
      },
      "source": [
        "### Find contracts with in the categories of Construction Related Services and Construction/Construction Services.\n",
        "construction_1 = data_1[(data_1['CategoryDescription'] == 'Construction/Construction Services')]\n",
        "construction_2 = data_1[(data_1['CategoryDescription'] == 'Construction Related Services')]\n",
        "construction = construction_1.append(construction_2)\n",
        "### Reset Index From 0\n",
        "construction.reset_index(drop=True,inplace=True)\n",
        "### Extract the Short Title\n",
        "Title = construction['ShortTitle']"
      ],
      "execution_count": 394,
      "outputs": []
    },
    {
      "cell_type": "code",
      "metadata": {
        "id": "ClxoGPMEowD1",
        "colab_type": "code",
        "colab": {
          "base_uri": "https://localhost:8080/",
          "height": 85
        },
        "outputId": "e70ef975-101a-4f34-e32f-f6cfcf4883ea"
      },
      "source": [
        "### find Short Title contain 'Central Park' & \"Washionton Park\"\n",
        "for i,t in Title.iteritems():\n",
        "  if 'CENTRAL PARK' in t: \n",
        "    print(i,t)\n",
        "  elif 'WASHINGTON SQUARE PARK' in t:\n",
        "    print(i,t)\n",
        "### Get the new Dataframe & reindex \n",
        "Central_Washionton_Construction = construction.iloc[[70,1421,1942,3072],:]\n",
        "Central_Washionton_Construction = Central_Washionton_Construction.loc[:,['RequestID','CategoryDescription','ShortTitle','ContractAmount']]\n",
        "Central_Washionton_Construction.reset_index(drop=True,inplace=True)"
      ],
      "execution_count": 395,
      "outputs": [
        {
          "output_type": "stream",
          "text": [
            "70 INSTALLATION OF LIGHTS AND TRAFFIC SIGNALS IN THE CENTRAL PARK\n",
            "1421 RECONSTRUCTION OF THE LANDSCAPE ALONG THE GRAND CENTRAL PARKWAY\n",
            "1942 WATER MAIN CONNECTION AT WASHINGTON SQUARE PARK, ETC. - BOROUGH OF MANHATTAN\n",
            "3072 CONSTRUCTION SERVICES FOR THE CONSTRUCTION OF THE CENTRAL PARK ZOO GARAGE\n"
          ],
          "name": "stdout"
        }
      ]
    },
    {
      "cell_type": "code",
      "metadata": {
        "id": "o83OmuXKrvoJ",
        "colab_type": "code",
        "colab": {
          "base_uri": "https://localhost:8080/",
          "height": 173
        },
        "outputId": "437d8501-4841-471a-d41d-ed6fc2bab417"
      },
      "source": [
        "Central_Washionton_Construction"
      ],
      "execution_count": 185,
      "outputs": [
        {
          "output_type": "execute_result",
          "data": {
            "text/html": [
              "<div>\n",
              "<style scoped>\n",
              "    .dataframe tbody tr th:only-of-type {\n",
              "        vertical-align: middle;\n",
              "    }\n",
              "\n",
              "    .dataframe tbody tr th {\n",
              "        vertical-align: top;\n",
              "    }\n",
              "\n",
              "    .dataframe thead th {\n",
              "        text-align: right;\n",
              "    }\n",
              "</style>\n",
              "<table border=\"1\" class=\"dataframe\">\n",
              "  <thead>\n",
              "    <tr style=\"text-align: right;\">\n",
              "      <th></th>\n",
              "      <th>RequestID</th>\n",
              "      <th>CategoryDescription</th>\n",
              "      <th>ShortTitle</th>\n",
              "      <th>ContractAmount</th>\n",
              "    </tr>\n",
              "  </thead>\n",
              "  <tbody>\n",
              "    <tr>\n",
              "      <th>0</th>\n",
              "      <td>20150713025</td>\n",
              "      <td>Construction/Construction Services</td>\n",
              "      <td>INSTALLATION OF LIGHTS AND TRAFFIC SIGNALS IN ...</td>\n",
              "      <td>12864125.60</td>\n",
              "    </tr>\n",
              "    <tr>\n",
              "      <th>1</th>\n",
              "      <td>20100604019</td>\n",
              "      <td>Construction/Construction Services</td>\n",
              "      <td>RECONSTRUCTION OF THE LANDSCAPE ALONG THE GRAN...</td>\n",
              "      <td>134189.64</td>\n",
              "    </tr>\n",
              "    <tr>\n",
              "      <th>2</th>\n",
              "      <td>20150324003</td>\n",
              "      <td>Construction/Construction Services</td>\n",
              "      <td>WATER MAIN CONNECTION AT WASHINGTON SQUARE PAR...</td>\n",
              "      <td>8939669.24</td>\n",
              "    </tr>\n",
              "    <tr>\n",
              "      <th>3</th>\n",
              "      <td>20100513003</td>\n",
              "      <td>Construction Related Services</td>\n",
              "      <td>CONSTRUCTION SERVICES FOR THE CONSTRUCTION OF ...</td>\n",
              "      <td>200000.00</td>\n",
              "    </tr>\n",
              "  </tbody>\n",
              "</table>\n",
              "</div>"
            ],
            "text/plain": [
              "     RequestID  ... ContractAmount\n",
              "0  20150713025  ...    12864125.60\n",
              "1  20100604019  ...      134189.64\n",
              "2  20150324003  ...     8939669.24\n",
              "3  20100513003  ...      200000.00\n",
              "\n",
              "[4 rows x 4 columns]"
            ]
          },
          "metadata": {
            "tags": []
          },
          "execution_count": 185
        }
      ]
    },
    {
      "cell_type": "code",
      "metadata": {
        "id": "03SePQZis10h",
        "colab_type": "code",
        "colab": {
          "base_uri": "https://localhost:8080/",
          "height": 34
        },
        "outputId": "0388f259-50cc-4825-8da6-10e2c80194ee"
      },
      "source": [
        "### Caculate the ratio between Central_Park_Construction_Fee and Washionton_Park_Construction_Fee\n",
        "Central_Park_Construction_Fee = np.sum(Central_Washionton_Construction.iloc[[0,1,3],3])\n",
        "Washionton_Park_Construction_Fee = np.sum(Central_Washionton_Construction.iloc[2,3])\n",
        "print(Central_Park_Construction_Fee / Washionton_Park_Construction_Fee)"
      ],
      "execution_count": 396,
      "outputs": [
        {
          "output_type": "stream",
          "text": [
            "1.4763762378304726\n"
          ],
          "name": "stdout"
        }
      ]
    },
    {
      "cell_type": "markdown",
      "metadata": {
        "id": "aUKo8rjTutdA",
        "colab_type": "text"
      },
      "source": [
        "**Q6 ???**\n",
        "> - Is there a predictable, yearly pattern of spending for certain agencies? As an example, consider the Environmental Protection agency. For each month from 2010 through the end of 2019, compute the monthly expenditure for each agency. Once again, use StartDate for the contract date. Then, with a lag of 12 months, report the autocorrelation for total monthly expenditure."
      ]
    },
    {
      "cell_type": "code",
      "metadata": {
        "id": "hZBROzvNvtbl",
        "colab_type": "code",
        "colab": {}
      },
      "source": [
        "EP_Agency = data_1[data_1['AgencyName'] == 'Environmental Protection']\n",
        "EP_Agency = EP_Agency.loc[:,['RequestID','StartDate','ContractAmount']]\n",
        "EP_Agency.sort_values(by='StartDate',inplace=True)\n",
        "\n",
        "EP_Agency['Year'] = EP_Agency['StartDate'].dt.year\n",
        "EP_Agency['Month'] = EP_Agency['StartDate'].dt.month\n",
        "\n",
        "EP_Agency.reset_index(drop=True,inplace=True)"
      ],
      "execution_count": 194,
      "outputs": []
    },
    {
      "cell_type": "code",
      "metadata": {
        "id": "igeCDj5vwQ_L",
        "colab_type": "code",
        "colab": {
          "base_uri": "https://localhost:8080/",
          "height": 204
        },
        "outputId": "d6aeaab6-881a-42be-a802-e030b75d0cd5"
      },
      "source": [
        "EP_Agency.head()"
      ],
      "execution_count": 213,
      "outputs": [
        {
          "output_type": "execute_result",
          "data": {
            "text/html": [
              "<div>\n",
              "<style scoped>\n",
              "    .dataframe tbody tr th:only-of-type {\n",
              "        vertical-align: middle;\n",
              "    }\n",
              "\n",
              "    .dataframe tbody tr th {\n",
              "        vertical-align: top;\n",
              "    }\n",
              "\n",
              "    .dataframe thead th {\n",
              "        text-align: right;\n",
              "    }\n",
              "</style>\n",
              "<table border=\"1\" class=\"dataframe\">\n",
              "  <thead>\n",
              "    <tr style=\"text-align: right;\">\n",
              "      <th></th>\n",
              "      <th>RequestID</th>\n",
              "      <th>StartDate</th>\n",
              "      <th>ContractAmount</th>\n",
              "      <th>Year</th>\n",
              "      <th>Month</th>\n",
              "    </tr>\n",
              "  </thead>\n",
              "  <tbody>\n",
              "    <tr>\n",
              "      <th>0</th>\n",
              "      <td>20100125020</td>\n",
              "      <td>2010-02-01</td>\n",
              "      <td>11008308.00</td>\n",
              "      <td>2010</td>\n",
              "      <td>2</td>\n",
              "    </tr>\n",
              "    <tr>\n",
              "      <th>1</th>\n",
              "      <td>20100125021</td>\n",
              "      <td>2010-02-01</td>\n",
              "      <td>648830.22</td>\n",
              "      <td>2010</td>\n",
              "      <td>2</td>\n",
              "    </tr>\n",
              "    <tr>\n",
              "      <th>2</th>\n",
              "      <td>20100316027</td>\n",
              "      <td>2010-03-22</td>\n",
              "      <td>1372000.00</td>\n",
              "      <td>2010</td>\n",
              "      <td>3</td>\n",
              "    </tr>\n",
              "    <tr>\n",
              "      <th>3</th>\n",
              "      <td>20100316014</td>\n",
              "      <td>2010-03-22</td>\n",
              "      <td>13749000.00</td>\n",
              "      <td>2010</td>\n",
              "      <td>3</td>\n",
              "    </tr>\n",
              "    <tr>\n",
              "      <th>4</th>\n",
              "      <td>20100317010</td>\n",
              "      <td>2010-03-23</td>\n",
              "      <td>583400.00</td>\n",
              "      <td>2010</td>\n",
              "      <td>3</td>\n",
              "    </tr>\n",
              "  </tbody>\n",
              "</table>\n",
              "</div>"
            ],
            "text/plain": [
              "     RequestID  StartDate  ContractAmount  Year  Month\n",
              "0  20100125020 2010-02-01     11008308.00  2010      2\n",
              "1  20100125021 2010-02-01       648830.22  2010      2\n",
              "2  20100316027 2010-03-22      1372000.00  2010      3\n",
              "3  20100316014 2010-03-22     13749000.00  2010      3\n",
              "4  20100317010 2010-03-23       583400.00  2010      3"
            ]
          },
          "metadata": {
            "tags": []
          },
          "execution_count": 213
        }
      ]
    },
    {
      "cell_type": "code",
      "metadata": {
        "id": "QmkIsXsxxRBe",
        "colab_type": "code",
        "colab": {}
      },
      "source": [
        "EP_Agency_Year_Month = EP_Agency.groupby(['Year','Month'])['ContractAmount'].sum()"
      ],
      "execution_count": 214,
      "outputs": []
    },
    {
      "cell_type": "code",
      "metadata": {
        "id": "aqFjwrSXyp1A",
        "colab_type": "code",
        "colab": {}
      },
      "source": [
        "EP_Agency_Year_Month = pd.DataFrame(EP_Agency_Year_Month)"
      ],
      "execution_count": 218,
      "outputs": []
    },
    {
      "cell_type": "code",
      "metadata": {
        "id": "ab4zeU9L1Bi-",
        "colab_type": "code",
        "colab": {
          "base_uri": "https://localhost:8080/",
          "height": 235
        },
        "outputId": "b948cdda-2d8c-4ad6-f4d3-67c2a4717e44"
      },
      "source": [
        "EP_Agency_Year_Month.head()"
      ],
      "execution_count": 227,
      "outputs": [
        {
          "output_type": "execute_result",
          "data": {
            "text/html": [
              "<div>\n",
              "<style scoped>\n",
              "    .dataframe tbody tr th:only-of-type {\n",
              "        vertical-align: middle;\n",
              "    }\n",
              "\n",
              "    .dataframe tbody tr th {\n",
              "        vertical-align: top;\n",
              "    }\n",
              "\n",
              "    .dataframe thead th {\n",
              "        text-align: right;\n",
              "    }\n",
              "</style>\n",
              "<table border=\"1\" class=\"dataframe\">\n",
              "  <thead>\n",
              "    <tr style=\"text-align: right;\">\n",
              "      <th></th>\n",
              "      <th></th>\n",
              "      <th>ContractAmount</th>\n",
              "    </tr>\n",
              "    <tr>\n",
              "      <th>Year</th>\n",
              "      <th>Month</th>\n",
              "      <th></th>\n",
              "    </tr>\n",
              "  </thead>\n",
              "  <tbody>\n",
              "    <tr>\n",
              "      <th rowspan=\"5\" valign=\"top\">2010</th>\n",
              "      <th>2</th>\n",
              "      <td>11657138.22</td>\n",
              "    </tr>\n",
              "    <tr>\n",
              "      <th>3</th>\n",
              "      <td>23454472.00</td>\n",
              "    </tr>\n",
              "    <tr>\n",
              "      <th>4</th>\n",
              "      <td>6084658.11</td>\n",
              "    </tr>\n",
              "    <tr>\n",
              "      <th>5</th>\n",
              "      <td>1491812.00</td>\n",
              "    </tr>\n",
              "    <tr>\n",
              "      <th>6</th>\n",
              "      <td>2454927.00</td>\n",
              "    </tr>\n",
              "  </tbody>\n",
              "</table>\n",
              "</div>"
            ],
            "text/plain": [
              "            ContractAmount\n",
              "Year Month                \n",
              "2010 2         11657138.22\n",
              "     3         23454472.00\n",
              "     4          6084658.11\n",
              "     5          1491812.00\n",
              "     6          2454927.00"
            ]
          },
          "metadata": {
            "tags": []
          },
          "execution_count": 227
        }
      ]
    },
    {
      "cell_type": "code",
      "metadata": {
        "id": "yc8Mo0WN2WPE",
        "colab_type": "code",
        "colab": {}
      },
      "source": [
        "from statsmodels.tsa.stattools import acf"
      ],
      "execution_count": 228,
      "outputs": []
    },
    {
      "cell_type": "code",
      "metadata": {
        "id": "sPJhRP8G2kdp",
        "colab_type": "code",
        "colab": {
          "base_uri": "https://localhost:8080/",
          "height": 122
        },
        "outputId": "403180b5-473a-4db1-cf55-31c39df68aa3"
      },
      "source": [
        "acf(EP_Agency_Year_Month['ContractAmount'],nlags=12)"
      ],
      "execution_count": 229,
      "outputs": [
        {
          "output_type": "stream",
          "text": [
            "/usr/local/lib/python3.6/dist-packages/statsmodels/tsa/stattools.py:541: FutureWarning: fft=True will become the default in a future version of statsmodels. To suppress this warning, explicitly set fft=False.\n",
            "  warnings.warn(msg, FutureWarning)\n"
          ],
          "name": "stderr"
        },
        {
          "output_type": "execute_result",
          "data": {
            "text/plain": [
              "array([ 1.        ,  0.0062669 , -0.05097649, -0.04473055, -0.02082958,\n",
              "       -0.02142397, -0.02008075, -0.02355079, -0.03459056, -0.00257002,\n",
              "       -0.01934144, -0.01234619,  0.0092233 ])"
            ]
          },
          "metadata": {
            "tags": []
          },
          "execution_count": 229
        }
      ]
    },
    {
      "cell_type": "markdown",
      "metadata": {
        "id": "kdzu0lNx3SGY",
        "colab_type": "text"
      },
      "source": [
        "**Q7**\n",
        "> - Consider only contracts awarded by the Citywide Administrative Services agency in the category Goods. Compute the total yearly expenditure (using StartDate) for these contracts and fit a linear regression model to these values. What is the R^2 value for this model?"
      ]
    },
    {
      "cell_type": "code",
      "metadata": {
        "id": "TqN0f6lG3ucg",
        "colab_type": "code",
        "colab": {}
      },
      "source": [
        "City_Wide_Goods = data_1[(data_1['AgencyName'] == 'Citywide Administrative Services') & (data_1['CategoryDescription'] == 'Goods')]\n",
        "\n",
        "City_Wide_Goods.reset_index(drop=True,inplace=True)\n",
        "\n",
        "City_Wide_Goods = City_Wide_Goods.loc[:,['PIN','StartDate','ContractAmount']]\n",
        "\n",
        "City_Wide_Goods['year'] = City_Wide_Goods['StartDate'].dt.year"
      ],
      "execution_count": 397,
      "outputs": []
    },
    {
      "cell_type": "code",
      "metadata": {
        "id": "C3oJMO903YYM",
        "colab_type": "code",
        "colab": {
          "base_uri": "https://localhost:8080/",
          "height": 204
        },
        "outputId": "08626472-8659-49c4-fdb2-f9e540a269b3"
      },
      "source": [
        "City_Wide_Goods.tail()"
      ],
      "execution_count": 398,
      "outputs": [
        {
          "output_type": "execute_result",
          "data": {
            "text/html": [
              "<div>\n",
              "<style scoped>\n",
              "    .dataframe tbody tr th:only-of-type {\n",
              "        vertical-align: middle;\n",
              "    }\n",
              "\n",
              "    .dataframe tbody tr th {\n",
              "        vertical-align: top;\n",
              "    }\n",
              "\n",
              "    .dataframe thead th {\n",
              "        text-align: right;\n",
              "    }\n",
              "</style>\n",
              "<table border=\"1\" class=\"dataframe\">\n",
              "  <thead>\n",
              "    <tr style=\"text-align: right;\">\n",
              "      <th></th>\n",
              "      <th>PIN</th>\n",
              "      <th>StartDate</th>\n",
              "      <th>ContractAmount</th>\n",
              "      <th>year</th>\n",
              "    </tr>\n",
              "  </thead>\n",
              "  <tbody>\n",
              "    <tr>\n",
              "      <th>4744</th>\n",
              "      <td>8571100775</td>\n",
              "      <td>2012-01-04</td>\n",
              "      <td>370890.00</td>\n",
              "      <td>2012</td>\n",
              "    </tr>\n",
              "    <tr>\n",
              "      <th>4745</th>\n",
              "      <td>8571400523</td>\n",
              "      <td>2014-08-26</td>\n",
              "      <td>166938.80</td>\n",
              "      <td>2014</td>\n",
              "    </tr>\n",
              "    <tr>\n",
              "      <th>4746</th>\n",
              "      <td>8571000435</td>\n",
              "      <td>2010-12-09</td>\n",
              "      <td>242416.80</td>\n",
              "      <td>2010</td>\n",
              "    </tr>\n",
              "    <tr>\n",
              "      <th>4747</th>\n",
              "      <td>1400191</td>\n",
              "      <td>2013-12-27</td>\n",
              "      <td>332469.81</td>\n",
              "      <td>2013</td>\n",
              "    </tr>\n",
              "    <tr>\n",
              "      <th>4748</th>\n",
              "      <td>8571500643</td>\n",
              "      <td>2015-12-23</td>\n",
              "      <td>492242.70</td>\n",
              "      <td>2015</td>\n",
              "    </tr>\n",
              "  </tbody>\n",
              "</table>\n",
              "</div>"
            ],
            "text/plain": [
              "             PIN  StartDate  ContractAmount  year\n",
              "4744  8571100775 2012-01-04       370890.00  2012\n",
              "4745  8571400523 2014-08-26       166938.80  2014\n",
              "4746  8571000435 2010-12-09       242416.80  2010\n",
              "4747     1400191 2013-12-27       332469.81  2013\n",
              "4748  8571500643 2015-12-23       492242.70  2015"
            ]
          },
          "metadata": {
            "tags": []
          },
          "execution_count": 398
        }
      ]
    },
    {
      "cell_type": "code",
      "metadata": {
        "id": "N6qS7cAG7n5y",
        "colab_type": "code",
        "colab": {}
      },
      "source": [
        "### Caculate the yearly expenditure for each contract PIN\n",
        "Yearly_contract_expenditure = pd.DataFrame(City_Wide_Goods.groupby(['PIN','year'])['ContractAmount'].sum())\n",
        "Yearly_contract_expenditure.reset_index(level=(0,1),inplace=True)\n",
        "\n",
        "Yearly_contract_expenditure.loc[Yearly_contract_expenditure['year'] == 2011,'year'] = 0\n",
        "Yearly_contract_expenditure.loc[Yearly_contract_expenditure['year'] == 2015,'year'] = 1\n",
        "Yearly_contract_expenditure.loc[Yearly_contract_expenditure['year'] == 2013,'year'] = 2\n",
        "Yearly_contract_expenditure.loc[Yearly_contract_expenditure['year'] == 2014,'year'] = 3\n",
        "Yearly_contract_expenditure.loc[Yearly_contract_expenditure['year'] == 2010,'year'] = 4\n",
        "Yearly_contract_expenditure.loc[Yearly_contract_expenditure['year'] == 2018,'year'] = 5\n",
        "Yearly_contract_expenditure.loc[Yearly_contract_expenditure['year'] == 2017,'year'] = 6\n",
        "Yearly_contract_expenditure.loc[Yearly_contract_expenditure['year'] == 2016,'year'] = 7\n",
        "Yearly_contract_expenditure.loc[Yearly_contract_expenditure['year'] == 2019,'year'] = 8"
      ],
      "execution_count": 399,
      "outputs": []
    },
    {
      "cell_type": "code",
      "metadata": {
        "id": "tQwwCeEZBreI",
        "colab_type": "code",
        "colab": {
          "base_uri": "https://localhost:8080/",
          "height": 34
        },
        "outputId": "850e4a56-a8da-4915-eede-a9c581e6bae8"
      },
      "source": [
        "### Caculate the R^2. x as year - categorical y as contract amount (numerical)\n",
        "x = Yearly_contract_expenditure['year']\n",
        "y = Yearly_contract_expenditure['ContractAmount']\n",
        "\n",
        "slope, intercept, r_value, p_value, std_err = scipy.stats.linregress(x, y)\n",
        "print(r_value**2)"
      ],
      "execution_count": 400,
      "outputs": [
        {
          "output_type": "stream",
          "text": [
            "0.0004930655597451434\n"
          ],
          "name": "stdout"
        }
      ]
    },
    {
      "cell_type": "markdown",
      "metadata": {
        "id": "jLAXYUVLDKkz",
        "colab_type": "text"
      },
      "source": [
        "**Q8**\n",
        "> - In this question, we will examine whether contract expenditure goes to companies located within or outside of New York City. To do so, we will extract the ZIP codes from the VendorAddress field. The ZIP codes pertaining to New York City can be found at the following URL: https://www.health.ny.gov/statistics/cancer/registry/appendix/neighborhoods.htm. Looking only at contracts with a StartDate in 2018, compute the total expenditure for contracts awarded to vendors listing NYC addresses and those located elsewhere. Report the proportion of the total expenditures awarded to the NYC vendors."
      ]
    },
    {
      "cell_type": "code",
      "metadata": {
        "id": "SelUA4MnDRGJ",
        "colab_type": "code",
        "colab": {}
      },
      "source": [
        "NY = data_1.copy()\n",
        "NY = NY.loc[:,['RequestID','ContractAmount','StartDate','PIN','VendorName','VendorAddress']]\n",
        "NY['Year'] = NY['StartDate'].dt.year\n",
        "NY = NY[NY['Year'] == 2018]\n",
        "NY.reset_index(drop=True,inplace=True)\n",
        "NY['zip'] = NY['VendorAddress'].str[-5:]\n"
      ],
      "execution_count": 401,
      "outputs": []
    },
    {
      "cell_type": "code",
      "metadata": {
        "id": "260lKLxEKPvK",
        "colab_type": "code",
        "colab": {}
      },
      "source": [
        "### Remove punctuation and character from column\n",
        "kk = [''.join(c for c in s if c not in string.punctuation) for s in NY['zip']]\n",
        "\n",
        "zip_reform = []\n",
        "\n",
        "for i in kk:\n",
        "  z = re.sub(\"[^0-9]\", \"\", i)\n",
        "  zip_reform.append(i)\n",
        "\n",
        "NY['zip'] = zip_reform"
      ],
      "execution_count": 516,
      "outputs": []
    },
    {
      "cell_type": "code",
      "metadata": {
        "id": "VVZt8DNBEIpk",
        "colab_type": "code",
        "colab": {
          "base_uri": "https://localhost:8080/",
          "height": 204
        },
        "outputId": "ef717a02-1812-4b2b-d89a-93442518bdde"
      },
      "source": [
        "NY.head()"
      ],
      "execution_count": 548,
      "outputs": [
        {
          "output_type": "execute_result",
          "data": {
            "text/html": [
              "<div>\n",
              "<style scoped>\n",
              "    .dataframe tbody tr th:only-of-type {\n",
              "        vertical-align: middle;\n",
              "    }\n",
              "\n",
              "    .dataframe tbody tr th {\n",
              "        vertical-align: top;\n",
              "    }\n",
              "\n",
              "    .dataframe thead th {\n",
              "        text-align: right;\n",
              "    }\n",
              "</style>\n",
              "<table border=\"1\" class=\"dataframe\">\n",
              "  <thead>\n",
              "    <tr style=\"text-align: right;\">\n",
              "      <th></th>\n",
              "      <th>RequestID</th>\n",
              "      <th>ContractAmount</th>\n",
              "      <th>StartDate</th>\n",
              "      <th>PIN</th>\n",
              "      <th>VendorName</th>\n",
              "      <th>VendorAddress</th>\n",
              "      <th>Year</th>\n",
              "      <th>zip</th>\n",
              "      <th>NY_City</th>\n",
              "    </tr>\n",
              "  </thead>\n",
              "  <tbody>\n",
              "    <tr>\n",
              "      <th>0</th>\n",
              "      <td>20180726005</td>\n",
              "      <td>3695800.0</td>\n",
              "      <td>2018-08-01</td>\n",
              "      <td>82617WM00304</td>\n",
              "      <td>Hatch Associates Consultants, Inc.</td>\n",
              "      <td>100 Sylvan Parkway, Suite 200, Amherst, NY 14228</td>\n",
              "      <td>2018</td>\n",
              "      <td>14228</td>\n",
              "      <td>1</td>\n",
              "    </tr>\n",
              "    <tr>\n",
              "      <th>1</th>\n",
              "      <td>20181205004</td>\n",
              "      <td>7575925.0</td>\n",
              "      <td>2018-12-11</td>\n",
              "      <td>17OPMOT02401A02</td>\n",
              "      <td>Accenture Federal Services, LLC</td>\n",
              "      <td>800 North Glebe Road Suite 300 Arlington VA 22203</td>\n",
              "      <td>2018</td>\n",
              "      <td>22203</td>\n",
              "      <td>0</td>\n",
              "    </tr>\n",
              "    <tr>\n",
              "      <th>2</th>\n",
              "      <td>20180806008</td>\n",
              "      <td>135200.0</td>\n",
              "      <td>2018-08-13</td>\n",
              "      <td>CWB-2018-A</td>\n",
              "      <td>Pat\u001as Ice Cream, Inc.</td>\n",
              "      <td>114 Harbour Lane, West Bayshore, NY 11706</td>\n",
              "      <td>2018</td>\n",
              "      <td>11706</td>\n",
              "      <td>1</td>\n",
              "    </tr>\n",
              "    <tr>\n",
              "      <th>3</th>\n",
              "      <td>20181108035</td>\n",
              "      <td>5458941.0</td>\n",
              "      <td>2018-11-16</td>\n",
              "      <td>82618WM00339</td>\n",
              "      <td>Arcadis of New York, Inc.</td>\n",
              "      <td>27-01 Queens Plaza North, Suite 800, Long Isla...</td>\n",
              "      <td>2018</td>\n",
              "      <td>11101</td>\n",
              "      <td>1</td>\n",
              "    </tr>\n",
              "    <tr>\n",
              "      <th>4</th>\n",
              "      <td>20180508027</td>\n",
              "      <td>90000.0</td>\n",
              "      <td>2018-05-15</td>\n",
              "      <td>226005</td>\n",
              "      <td>Strength In Numbers Consulting</td>\n",
              "      <td>22 West 27th Street, Fl # 5, New York, NY  10001</td>\n",
              "      <td>2018</td>\n",
              "      <td>10001</td>\n",
              "      <td>1</td>\n",
              "    </tr>\n",
              "  </tbody>\n",
              "</table>\n",
              "</div>"
            ],
            "text/plain": [
              "     RequestID  ContractAmount  StartDate  ...  Year    zip NY_City\n",
              "0  20180726005       3695800.0 2018-08-01  ...  2018  14228       1\n",
              "1  20181205004       7575925.0 2018-12-11  ...  2018  22203       0\n",
              "2  20180806008        135200.0 2018-08-13  ...  2018  11706       1\n",
              "3  20181108035       5458941.0 2018-11-16  ...  2018  11101       1\n",
              "4  20180508027         90000.0 2018-05-15  ...  2018  10001       1\n",
              "\n",
              "[5 rows x 9 columns]"
            ]
          },
          "metadata": {
            "tags": []
          },
          "execution_count": 548
        }
      ]
    },
    {
      "cell_type": "code",
      "metadata": {
        "id": "ZHguRZ-1HmwV",
        "colab_type": "code",
        "colab": {}
      },
      "source": [
        "import requests\n",
        "from bs4 import BeautifulSoup\n",
        "import string \n",
        "\n",
        "r = requests.get('https://www.health.ny.gov/statistics/cancer/registry/appendix/neighborhoods.htm')\n",
        "soup = BeautifulSoup(r.text,'html.parser')\n",
        "\n",
        "zip_code_list = soup.find_all('table',{'summary':\" \"})\n",
        "\n",
        "zip_code_NY = []\n",
        "\n",
        "for c in zip_code_list:\n",
        "  list_line = c.find_all('td',{'headers':'header3'})\n",
        "  for l in list_line:\n",
        "    zip_code_NY.append(l.text)"
      ],
      "execution_count": 405,
      "outputs": []
    },
    {
      "cell_type": "code",
      "metadata": {
        "id": "ccZ8RvRSOhBU",
        "colab_type": "code",
        "colab": {}
      },
      "source": [
        "### Web Scrapping to get the ZIP code\n",
        "ZIP = pd.Series(zip_code_NY)\n",
        "ZIP.to_csv('/content/drive/My Drive/Colab Notebooks/Data set/ZIP.csv',index=False)\n",
        "ZIP_Code = pd.read_csv('/content/drive/My Drive/Colab Notebooks/Data set/ZIP.csv')\n",
        "array = ZIP_Code.values\n",
        "array = array.reshape((1,42))\n",
        "L = [''.join(c for c in s if c not in string.punctuation) for s in array]"
      ],
      "execution_count": 480,
      "outputs": []
    },
    {
      "cell_type": "code",
      "metadata": {
        "id": "9_xvA-0qLphG",
        "colab_type": "code",
        "colab": {}
      },
      "source": [
        "### Found vendor in NY\n",
        "for index,value in NY['VendorAddress'].items():\n",
        "  if 'New York' in value:\n",
        "    NY.iloc[index,8] = 1 "
      ],
      "execution_count": null,
      "outputs": []
    },
    {
      "cell_type": "code",
      "metadata": {
        "id": "C00fh2NuSF7c",
        "colab_type": "code",
        "colab": {
          "base_uri": "https://localhost:8080/",
          "height": 34
        },
        "outputId": "0fecd1a5-4c21-447c-a66c-be04411ab761"
      },
      "source": [
        "### Caculate the result \n",
        "Total_Expenditure_New_York = np.sum(NY.loc[NY['NY_City']==1,'ContractAmount'])\n",
        "Total_Expenditure_None_NY = np.sum(NY.loc[NY['NY_City']==0,'ContractAmount'])\n",
        "Total_Expenditure = Total_Expenditure_New_York + Total_Expenditure_None_NY\n",
        "Proportion_to_NY = Total_Expenditure_New_York / Total_Expenditure\n",
        "print(Proportion_to_NY)"
      ],
      "execution_count": 553,
      "outputs": [
        {
          "output_type": "stream",
          "text": [
            "0.7342999911236907\n"
          ],
          "name": "stdout"
        }
      ]
    },
    {
      "cell_type": "markdown",
      "metadata": {
        "id": "pLgEf2jqViK0",
        "colab_type": "text"
      },
      "source": [
        "**Final Summary for The Section 1**"
      ]
    },
    {
      "cell_type": "code",
      "metadata": {
        "id": "rkLEEqZBTAIT",
        "colab_type": "code",
        "colab": {}
      },
      "source": [
        "import pandas as pd \n",
        "import numpy as np \n",
        "from scipy.stats import chisquare\n",
        "from statsmodels.tsa.stattools import acf\n",
        "import requests\n",
        "from bs4 import BeautifulSoup\n",
        "import string \n",
        "data = pd.read_csv('/content/drive/My Drive/Recent_Contract_Awards.csv',parse_dates=['StartDate'])\n",
        "### Q1 \n",
        "data_1 = data[(data['StartDate'] >= '2010-01-01') & (data['StartDate'] <= '2019-12-31')]\n",
        "data_1 = data_1[data_1['ContractAmount'].notna()]\n",
        "data_1 = data_1.drop(data_1[data_1['ContractAmount'] <= 0].index)\n",
        "np.sum(data_1['ContractAmount'])\n",
        "### Q2: \n",
        "data_1.groupby(['AgencyName'])['ContractAmount'].mean()\n",
        "6.911672e+06 / 7.933455e+05\n",
        "### Q3: \n",
        "city_wide = data_1[data_1['AgencyName'] == 'Citywide Administrative Services']\n",
        "vender_sum = city_wide.groupby(['VendorName'])['ContractAmount'].sum()\n",
        "vender_sum = pd.DataFrame(vender_sum) \n",
        "vender_sum = vender_sum.reset_index(level=0)\n",
        "Total_sum = np.sum(vender_sum['ContractAmount'])\n",
        "top_50_sum = np.sum(vender_sum.iloc[:51,]['ContractAmount'])\n",
        "top_50_sum / Total_sum\n",
        "### Q4:\n",
        "park_Recre = data_1[data_1['AgencyName'] == 'Parks and Recreation']\n",
        "park_Recre = park_Recre.loc[:,['RequestID','StartDate']]\n",
        "park_Recre['weekday'] = park_Recre['StartDate'].dt.day_name()\n",
        "print(park_Recre['weekday'].value_counts())\n",
        "f_observe = [130,163,145,119,152]\n",
        "print('\\n')\n",
        "print(chisquare(f_obs=f_observe))\n",
        "### Q5: \n",
        "construction_1 = data_1[(data_1['CategoryDescription'] == 'Construction/Construction Services')]\n",
        "construction_2 = data_1[(data_1['CategoryDescription'] == 'Construction Related Services')]\n",
        "construction = construction_1.append(construction_2)\n",
        "construction.reset_index(drop=True,inplace=True)\n",
        "Title = construction['ShortTitle']\n",
        "for i,t in Title.iteritems():\n",
        "  if 'CENTRAL PARK' in t: \n",
        "    print(i,t)\n",
        "  elif 'WASHINGTON SQUARE PARK' in t:\n",
        "    print(i,t)\n",
        "Central_Washionton_Construction = construction.iloc[[70,1421,1942,3072],:]\n",
        "Central_Washionton_Construction = Central_Washionton_Construction.loc[:,['RequestID','CategoryDescription','ShortTitle','ContractAmount']]\n",
        "Central_Washionton_Construction.reset_index(drop=True,inplace=True)\n",
        "Central_Park_Construction_Fee = np.sum(Central_Washionton_Construction.iloc[[0,1,3],3])\n",
        "Washionton_Park_Construction_Fee = np.sum(Central_Washionton_Construction.iloc[2,3])\n",
        "print(Central_Park_Construction_Fee / Washionton_Park_Construction_Fee)\n",
        "### Q6: Not Sure (Auto Correlation for 12 lag has 12 values)\n",
        "EP_Agency = data_1[data_1['AgencyName'] == 'Environmental Protection']\n",
        "EP_Agency = EP_Agency.loc[:,['RequestID','StartDate','ContractAmount']]\n",
        "EP_Agency.sort_values(by='StartDate',inplace=True)\n",
        "EP_Agency['Year'] = EP_Agency['StartDate'].dt.year\n",
        "EP_Agency['Month'] = EP_Agency['StartDate'].dt.month\n",
        "EP_Agency.reset_index(drop=True,inplace=True)\n",
        "EP_Agency_Year_Month = EP_Agency.groupby(['Year','Month'])['ContractAmount'].sum()\n",
        "EP_Agency_Year_Month = pd.DataFrame(EP_Agency_Year_Month)\n",
        "acf(EP_Agency_Year_Month['ContractAmount'],nlags=12)\n",
        "### Q7: Not Sure What are the independent varaible. \n",
        "City_Wide_Goods = data_1[(data_1['AgencyName'] == 'Citywide Administrative Services') & (data_1['CategoryDescription'] == 'Goods')]\n",
        "City_Wide_Goods.reset_index(drop=True,inplace=True)\n",
        "City_Wide_Goods = City_Wide_Goods.loc[:,['PIN','StartDate','ContractAmount']]\n",
        "City_Wide_Goods['year'] = City_Wide_Goods['StartDate'].dt.year\n",
        "Yearly_contract_expenditure = pd.DataFrame(City_Wide_Goods.groupby(['PIN','year'])['ContractAmount'].sum())\n",
        "Yearly_contract_expenditure.reset_index(level=(0,1),inplace=True)\n",
        "x = Yearly_contract_expenditure['year']\n",
        "y = Yearly_contract_expenditure['ContractAmount']\n",
        "slope, intercept, r_value, p_value, std_err = scipy.stats.linregress(x, y)\n",
        "print(r_value**2)\n",
        "### Q8:\n",
        "NY = data_1.copy()\n",
        "NY = NY.loc[:,['RequestID','ContractAmount','StartDate','PIN','VendorName','VendorAddress']]\n",
        "NY['Year'] = NY['StartDate'].dt.year\n",
        "NY = NY[NY['Year'] == 2018]\n",
        "NY.reset_index(drop=True,inplace=True)\n",
        "NY['zip'] = NY['VendorAddress'].str[-5:]\n",
        "NY['NY_City'] = 0 \n",
        "kk = [''.join(c for c in s if c not in string.punctuation) for s in NY['zip']]\n",
        "zip_reform = []\n",
        "for i in kk:\n",
        "  z = re.sub(\"[^0-9]\", \"\", i)\n",
        "  zip_reform.append(i)\n",
        "NY['zip'] = zip_reform\n",
        "r = requests.get('https://www.health.ny.gov/statistics/cancer/registry/appendix/neighborhoods.htm')\n",
        "soup = BeautifulSoup(r.text,'html.parser')\n",
        "zip_code_list = soup.find_all('table',{'summary':\" \"})\n",
        "zip_code_NY = []\n",
        "for c in zip_code_list:\n",
        "  list_line = c.find_all('td',{'headers':'header3'})\n",
        "  for l in list_line:\n",
        "    zip_code_NY.append(l.text)\n",
        "ZIP = pd.Series(zip_code_NY)\n",
        "ZIP.to_csv('/content/drive/My Drive/Colab Notebooks/Data set/ZIP.csv',index=False)\n",
        "ZIP_Code = pd.read_csv('/content/drive/My Drive/Colab Notebooks/Data set/ZIP.csv')\n",
        "array = ZIP_Code.values\n",
        "array = array.reshape((1,42))\n",
        "L = [''.join(c for c in s if c not in string.punctuation) for s in array]\n",
        "for index,value in NY['VendorAddress'].items():\n",
        "  if 'New York' in value:\n",
        "    NY.iloc[index,8] = 1 \n",
        "Total_Expenditure_New_York = np.sum(NY.loc[NY['NY_City']==1,'ContractAmount'])\n",
        "Total_Expenditure_None_NY = np.sum(NY.loc[NY['NY_City']==0,'ContractAmount'])\n",
        "Total_Expenditure = Total_Expenditure_New_York + Total_Expenditure_None_NY\n",
        "Proportion_to_NY = Total_Expenditure_New_York / Total_Expenditure\n",
        "print(Proportion_to_NY)"
      ],
      "execution_count": null,
      "outputs": []
    },
    {
      "cell_type": "markdown",
      "metadata": {
        "id": "Zetq8mmOVoVi",
        "colab_type": "text"
      },
      "source": [
        "# Section 2"
      ]
    },
    {
      "cell_type": "code",
      "metadata": {
        "id": "55816l4sGeYE",
        "colab_type": "code",
        "colab": {}
      },
      "source": [
        "import numpy as np\n",
        "from scipy.spatial import distance as d \n",
        "import matplotlib.pyplot as plt\n",
        "import seaborn as sns \n",
        "from statistics import stdev"
      ],
      "execution_count": 170,
      "outputs": []
    },
    {
      "cell_type": "code",
      "metadata": {
        "id": "aQNSqfHTYTZq",
        "colab_type": "code",
        "colab": {}
      },
      "source": [
        "### 10 Move \n",
        "def random_index(x,y): \n",
        "  for token in range(0,10):\n",
        "    token = int(np.random.choice(list(range(1,9)),size=1,p=[0.125,0.125,0.125,0.125,0.125,0.125,0.125,0.125]))\n",
        "\n",
        "    if token == 1:\n",
        "      x -= 1\n",
        "      y -= 2\n",
        "########\n",
        "    elif token == 2:\n",
        "      x-=1\n",
        "      y+=2\n",
        "########\n",
        "    elif token == 3:\n",
        "      x-=2\n",
        "      y+=1\n",
        "########\n",
        "    elif token == 4:\n",
        "      x-=2\n",
        "      y-=1\n",
        "########\n",
        "    elif token == 5:\n",
        "      x+=1\n",
        "      y-=2\n",
        "########\n",
        "    elif token == 6:\n",
        "      x+=1\n",
        "      y+=2\n",
        "########\n",
        "    elif token == 7:\n",
        "      x+=2\n",
        "      y-=1\n",
        "########\n",
        "    else:\n",
        "      x+=2\n",
        "      y+=1\n",
        "  if x < 0 or y < 0:\n",
        "    return None\n",
        "  else:\n",
        "    return x, y"
      ],
      "execution_count": 171,
      "outputs": []
    },
    {
      "cell_type": "code",
      "metadata": {
        "id": "wcxBoZEEZlPE",
        "colab_type": "code",
        "colab": {}
      },
      "source": [
        "### Randomly run the 10 move 1000 times\n",
        "holder = []\n",
        "for _ in range(0,1000):\n",
        "  x = random_index(x=0,y=0)\n",
        "  holder.append(x)\n",
        "\n",
        "### All distance for 1000 times\n",
        "distance = []\n",
        "for i in holder:\n",
        "  if i != None:\n",
        "    dis = d.euclidean((0,0),i)\n",
        "    distance.append(dis)\n",
        "\n",
        "### Large Than 10\n",
        "large_than_10 = []\n",
        "for i in distance:\n",
        "  if i >= 10:\n",
        "    large_than_10.append(i)"
      ],
      "execution_count": 172,
      "outputs": []
    },
    {
      "cell_type": "code",
      "metadata": {
        "id": "77EsSHEhZlH4",
        "colab_type": "code",
        "colab": {
          "base_uri": "https://localhost:8080/",
          "height": 51
        },
        "outputId": "289d814e-5520-4241-ccc4-9e0d8364afe3"
      },
      "source": [
        "### 10 move euclidiean distance for 1000 times - median \n",
        "print(np.median(distance))\n",
        "### 10 move euclidiean distance for 1000 times - larget than 10 distance - median \n",
        "print(np.median(large_than_10))"
      ],
      "execution_count": 173,
      "outputs": [
        {
          "output_type": "stream",
          "text": [
            "5.830951894845301\n",
            "10.770329614269007\n"
          ],
          "name": "stdout"
        }
      ]
    },
    {
      "cell_type": "code",
      "metadata": {
        "id": "rkXdPtKQS1mA",
        "colab_type": "code",
        "colab": {
          "base_uri": "https://localhost:8080/",
          "height": 51
        },
        "outputId": "9d28fe6d-4bce-49e5-f3ac-acbec27a0ed0"
      },
      "source": [
        "### STD\n",
        "print(stdev(distance))\n",
        "print(stdev(large_than_10))"
      ],
      "execution_count": 181,
      "outputs": [
        {
          "output_type": "stream",
          "text": [
            "3.1335739563860825\n",
            "1.502300414074829\n"
          ],
          "name": "stdout"
        }
      ]
    },
    {
      "cell_type": "code",
      "metadata": {
        "id": "FuJ-0lBNivf9",
        "colab_type": "code",
        "colab": {
          "base_uri": "https://localhost:8080/",
          "height": 282
        },
        "outputId": "ce8e07ed-423e-4d35-942c-d6094a053ee7"
      },
      "source": [
        "sns.distplot(distance,color='green',bins=20)"
      ],
      "execution_count": 174,
      "outputs": [
        {
          "output_type": "execute_result",
          "data": {
            "text/plain": [
              "<matplotlib.axes._subplots.AxesSubplot at 0x7f8949b30908>"
            ]
          },
          "metadata": {
            "tags": []
          },
          "execution_count": 174
        },
        {
          "output_type": "display_data",
          "data": {
            "image/png": "[encoded data removed]",
            "text/plain": [
              "<Figure size 432x288 with 1 Axes>"
            ]
          },
          "metadata": {
            "tags": [],
            "needs_background": "light"
          }
        }
      ]
    },
    {
      "cell_type": "code",
      "metadata": {
        "id": "o2WhIVpHZlDf",
        "colab_type": "code",
        "colab": {
          "base_uri": "https://localhost:8080/",
          "height": 282
        },
        "outputId": "b0ed5b26-03bf-46e8-81de-660114c518cb"
      },
      "source": [
        "sns.distplot(large_than_10,color='orange',bins=5)"
      ],
      "execution_count": 175,
      "outputs": [
        {
          "output_type": "execute_result",
          "data": {
            "text/plain": [
              "<matplotlib.axes._subplots.AxesSubplot at 0x7f8949cd8630>"
            ]
          },
          "metadata": {
            "tags": []
          },
          "execution_count": 175
        },
        {
          "output_type": "display_data",
          "data": {
            "image/png": "[encoded data removed]",
            "text/plain": [
              "<Figure size 432x288 with 1 Axes>"
            ]
          },
          "metadata": {
            "tags": [],
            "needs_background": "light"
          }
        }
      ]
    },
    {
      "cell_type": "code",
      "metadata": {
        "id": "aFvPzSOZZlBx",
        "colab_type": "code",
        "colab": {}
      },
      "source": [
        "### 100 Move \n",
        "def random_index_100(x,y): \n",
        "  for token in range(0,100):\n",
        "    token = int(np.random.choice(list(range(1,9)),size=1,p=[0.125,0.125,0.125,0.125,0.125,0.125,0.125,0.125]))\n",
        "\n",
        "    if token == 1:\n",
        "      x -= 1\n",
        "      y -= 2\n",
        "########\n",
        "    elif token == 2:\n",
        "      x-=1\n",
        "      y+=2\n",
        "########\n",
        "    elif token == 3:\n",
        "      x-=2\n",
        "      y+=1\n",
        "########\n",
        "    elif token == 4:\n",
        "      x-=2\n",
        "      y-=1\n",
        "########\n",
        "    elif token == 5:\n",
        "      x+=1\n",
        "      y-=2\n",
        "########\n",
        "    elif token == 6:\n",
        "      x+=1\n",
        "      y+=2\n",
        "########\n",
        "    elif token == 7:\n",
        "      x+=2\n",
        "      y-=1\n",
        "########\n",
        "    else:\n",
        "      x+=2\n",
        "      y+=1\n",
        "  if x < 0 or y < 0:\n",
        "    return None\n",
        "  else:\n",
        "    return x, y"
      ],
      "execution_count": 176,
      "outputs": []
    },
    {
      "cell_type": "code",
      "metadata": {
        "id": "ECVOX18LZk-_",
        "colab_type": "code",
        "colab": {}
      },
      "source": [
        "holder_100 = []\n",
        "for _ in range(0,1000):\n",
        "  x = random_index_100(x=0,y=0)\n",
        "  holder_100.append(x)\n",
        "\n",
        "### All distance for 1000 times\n",
        "distance_100 = []\n",
        "for i in holder_100:\n",
        "  if i != None:\n",
        "    dis = d.euclidean((0,0),i)\n",
        "    distance_100.append(dis)"
      ],
      "execution_count": 177,
      "outputs": []
    },
    {
      "cell_type": "code",
      "metadata": {
        "id": "UseyKucNZk9Y",
        "colab_type": "code",
        "colab": {
          "base_uri": "https://localhost:8080/",
          "height": 34
        },
        "outputId": "65a0879d-9c89-4e39-ace7-efc33394f81c"
      },
      "source": [
        "### 100 move euclidiean distance for 1000 times - median \n",
        "print(np.median(distance_100))"
      ],
      "execution_count": 178,
      "outputs": [
        {
          "output_type": "stream",
          "text": [
            "20.0\n"
          ],
          "name": "stdout"
        }
      ]
    },
    {
      "cell_type": "code",
      "metadata": {
        "id": "70F2PmNeTd9q",
        "colab_type": "code",
        "colab": {
          "base_uri": "https://localhost:8080/",
          "height": 34
        },
        "outputId": "a179f8a0-022a-4616-ce46-862af50955a4"
      },
      "source": [
        "### STD\n",
        "print(stdev(distance_100))"
      ],
      "execution_count": 182,
      "outputs": [
        {
          "output_type": "stream",
          "text": [
            "10.736916666880777\n"
          ],
          "name": "stdout"
        }
      ]
    },
    {
      "cell_type": "code",
      "metadata": {
        "id": "QoZjjxKIZk6X",
        "colab_type": "code",
        "colab": {
          "base_uri": "https://localhost:8080/",
          "height": 282
        },
        "outputId": "c6cf17f5-e939-4f78-dcd1-695d7a289524"
      },
      "source": [
        "sns.distplot(distance_100,color='green',bins=20)"
      ],
      "execution_count": 179,
      "outputs": [
        {
          "output_type": "execute_result",
          "data": {
            "text/plain": [
              "<matplotlib.axes._subplots.AxesSubplot at 0x7f8949be5eb8>"
            ]
          },
          "metadata": {
            "tags": []
          },
          "execution_count": 179
        },
        {
          "output_type": "display_data",
          "data": {
            "image/png": "[encoded data removed]",
            "text/plain": [
              "<Figure size 432x288 with 1 Axes>"
            ]
          },
          "metadata": {
            "tags": [],
            "needs_background": "light"
          }
        }
      ]
    },
    {
      "cell_type": "markdown",
      "metadata": {
        "id": "wFuxCdToVgoc",
        "colab_type": "text"
      },
      "source": [
        "**Final Summary for The Section 2**"
      ]
    },
    {
      "cell_type": "code",
      "metadata": {
        "id": "H0_C8ANnToI9",
        "colab_type": "code",
        "colab": {}
      },
      "source": [
        "import numpy as np\n",
        "from scipy.spatial import distance as d \n",
        "import matplotlib.pyplot as plt\n",
        "import seaborn as sns \n",
        "from statistics import stdev\n",
        "\n",
        "### Create a user defined function to simulate the random 10 move / 100 move\n",
        "move = 10 \n",
        "# move = 100 \n",
        "def random_index(x,y): \n",
        "  for token in range(0,move):\n",
        "    token = int(np.random.choice(list(range(1,9)),size=1,p=[0.125,0.125,0.125,0.125,0.125,0.125,0.125,0.125]))\n",
        "\n",
        "    if token == 1:\n",
        "      x -= 1\n",
        "      y -= 2\n",
        "########\n",
        "    elif token == 2:\n",
        "      x-=1\n",
        "      y+=2\n",
        "########\n",
        "    elif token == 3:\n",
        "      x-=2\n",
        "      y+=1\n",
        "########\n",
        "    elif token == 4:\n",
        "      x-=2\n",
        "      y-=1\n",
        "########\n",
        "    elif token == 5:\n",
        "      x+=1\n",
        "      y-=2\n",
        "########\n",
        "    elif token == 6:\n",
        "      x+=1\n",
        "      y+=2\n",
        "########\n",
        "    elif token == 7:\n",
        "      x+=2\n",
        "      y-=1\n",
        "########\n",
        "    else:\n",
        "      x+=2\n",
        "      y+=1\n",
        "  if x < 0 or y < 0:\n",
        "    return None\n",
        "  else:\n",
        "    return x, y\n",
        "\n",
        "### Randomly run the 10 move 1000 times\n",
        "holder = []\n",
        "for _ in range(0,1000):\n",
        "  x = random_index(x=0,y=0)\n",
        "  holder.append(x)\n",
        "\n",
        "### All 10 move distance for 1000 times\n",
        "distance = []\n",
        "for i in holder:\n",
        "  if i != None:\n",
        "    dis = d.euclidean((0,0),i)\n",
        "    distance.append(dis)\n",
        "\n",
        "### All 10 move distance for 1000 times (Large Than 10) \n",
        "large_than_10 = []\n",
        "for i in distance:\n",
        "  if i >= 10:\n",
        "    large_than_10.append(i)\n",
        "\n",
        "### 10 move euclidiean distance for 1000 times - median \n",
        "print(np.median(distance))\n",
        "### 10 move euclidiean distance for 1000 times - larget than 10 distance - median \n",
        "print(np.median(large_than_10))\n",
        "### 10 move STD\n",
        "print(stdev(distance))\n",
        "print(stdev(large_than_10))\n",
        "\n",
        "### Randomly run the 100 move 1000 times\n",
        "holder_100 = []\n",
        "for _ in range(0,1000):\n",
        "  x = random_index_100(x=0,y=0)\n",
        "  holder_100.append(x)\n",
        "\n",
        "### All 100 move distance for 1000 times\n",
        "distance_100 = []\n",
        "for i in holder_100:\n",
        "  if i != None:\n",
        "    dis = d.euclidean((0,0),i)\n",
        "    distance_100.append(dis)\n",
        "\n",
        "### 100 move euclidiean distance for 1000 times - median \n",
        "print(np.median(distance_100))\n",
        "### 100 move STD\n",
        "print(stdev(distance_100))"
      ],
      "execution_count": null,
      "outputs": []
    }
  ]
}